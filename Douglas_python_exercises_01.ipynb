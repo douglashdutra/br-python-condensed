{
  "nbformat": 4,
  "nbformat_minor": 0,
  "metadata": {
    "colab": {
      "name": "Douglas_python_exercises_01.ipynb",
      "provenance": [],
      "collapsed_sections": [],
      "include_colab_link": true
    },
    "kernelspec": {
      "name": "python3",
      "display_name": "Python 3"
    }
  },
  "cells": [
    {
      "cell_type": "markdown",
      "metadata": {
        "id": "view-in-github",
        "colab_type": "text"
      },
      "source": [
        "<a href=\"https://colab.research.google.com/github/douglashdutra/br-python-condensed/blob/main/Douglas_python_exercises_01.ipynb\" target=\"_parent\"><img src=\"https://colab.research.google.com/assets/colab-badge.svg\" alt=\"Open In Colab\"/></a>"
      ]
    },
    {
      "cell_type": "markdown",
      "metadata": {
        "id": "8YqaSZgXYJ5g"
      },
      "source": [
        "![](https://i.imgur.com/YX6UATs.png)\n"
      ]
    },
    {
      "cell_type": "markdown",
      "metadata": {
        "id": "hhUVzDipaGb9"
      },
      "source": [
        "### **Exercícios de Python - 1** \n",
        "\n",
        "\n",
        "\n"
      ]
    },
    {
      "cell_type": "markdown",
      "metadata": {
        "id": "qMGp-h8OaGqr"
      },
      "source": [
        "1 - Faça um programa, com uma função que necessite de três argumentos, e que forneça a soma desses três argumentos."
      ]
    },
    {
      "cell_type": "code",
      "metadata": {
        "id": "kTg-D89NdCld",
        "colab": {
          "base_uri": "https://localhost:8080/",
          "height": 86
        },
        "outputId": "a0a04d17-7d12-4d69-c95a-8da46335ff80"
      },
      "source": [
        "def soma_arg():\r\n",
        "  a = float(input(\"Defina um primeiro argumento: \"))\r\n",
        "  b = float(input(\"Defina um segundo argumento: \"))\r\n",
        "  c = float(input(\"Defina um terceiro argumento: \"))\r\n",
        "  soma = a+b+c\r\n",
        "  return f\"A soma dos seus argumentos é {soma}\"\r\n",
        "\r\n",
        "soma_arg()"
      ],
      "execution_count": null,
      "outputs": [
        {
          "output_type": "stream",
          "text": [
            "Defina um primeiro argumento: 10\n",
            "Defina um segundo argumento: 0\n",
            "Defina um terceiro argumento: 30\n"
          ],
          "name": "stdout"
        },
        {
          "output_type": "execute_result",
          "data": {
            "application/vnd.google.colaboratory.intrinsic+json": {
              "type": "string"
            },
            "text/plain": [
              "'A soma dos seus argumentos é 40.0'"
            ]
          },
          "metadata": {
            "tags": []
          },
          "execution_count": 10
        }
      ]
    },
    {
      "cell_type": "markdown",
      "metadata": {
        "id": "KdLXZftIaG60"
      },
      "source": [
        "2 - Faça um Programa que peça a temperatura em graus Celsius, transforme e mostre em graus Fahrenheit. \\\n",
        "*Dica: procure a fórmula para essa conversão na internet*"
      ]
    },
    {
      "cell_type": "code",
      "metadata": {
        "id": "MNINJ32eU45M",
        "colab": {
          "base_uri": "https://localhost:8080/",
          "height": 52
        },
        "outputId": "b00c2181-d649-47ff-dd5f-78785952376b"
      },
      "source": [
        "def  conversão_temp():\r\n",
        "  temp_c = float(input(\"Defina um valor de temperatura em Celsius: \"))\r\n",
        "  temp_f = (temp_c*(9/5))+32\r\n",
        "  return f\"{temp_c}°C equivale a {temp_f}°F\"\r\n",
        "\r\n",
        "conversão_temp()"
      ],
      "execution_count": null,
      "outputs": [
        {
          "output_type": "stream",
          "text": [
            "Defina um valor de temperatura em Celsius: 31.7\n"
          ],
          "name": "stdout"
        },
        {
          "output_type": "execute_result",
          "data": {
            "application/vnd.google.colaboratory.intrinsic+json": {
              "type": "string"
            },
            "text/plain": [
              "'31.7°C equivale a 89.06°F'"
            ]
          },
          "metadata": {
            "tags": []
          },
          "execution_count": 12
        }
      ]
    },
    {
      "cell_type": "markdown",
      "metadata": {
        "id": "4OETBVgmaGzX"
      },
      "source": [
        "3 - Faça um Programa que peça um número inteiro e determine se ele é par ou impar. Dica: utilize o operador módulo (resto da divisão)."
      ]
    },
    {
      "cell_type": "code",
      "metadata": {
        "id": "WbzCimFZVSr1",
        "colab": {
          "base_uri": "https://localhost:8080/",
          "height": 52
        },
        "outputId": "ada61511-21e2-4239-f506-78550a241ecd"
      },
      "source": [
        "def par_ou_ímpar():\r\n",
        "  integer = int(input(\"Defina um número inteiro: \"))\r\n",
        "  return (\r\n",
        "      f\"{integer} é par\" if integer%2 == 0\r\n",
        "       else f\"{integer} é ímpar\"\r\n",
        "       )\r\n",
        "\r\n",
        "par_ou_ímpar()"
      ],
      "execution_count": null,
      "outputs": [
        {
          "output_type": "stream",
          "text": [
            "Defina um número inteiro: 24\n"
          ],
          "name": "stdout"
        },
        {
          "output_type": "execute_result",
          "data": {
            "application/vnd.google.colaboratory.intrinsic+json": {
              "type": "string"
            },
            "text/plain": [
              "'24 é par'"
            ]
          },
          "metadata": {
            "tags": []
          },
          "execution_count": 20
        }
      ]
    },
    {
      "cell_type": "markdown",
      "metadata": {
        "id": "7zPJ8sgPaGw0"
      },
      "source": [
        "4 - Faça um programa que peça o tamanho de um arquivo para download (em MB) e a velocidade de um link de Internet (em Mbps), calcule e informe o tempo aproximado de download do arquivo usando este link (em minutos)."
      ]
    },
    {
      "cell_type": "code",
      "metadata": {
        "id": "l4qtSxU7XquB",
        "colab": {
          "base_uri": "https://localhost:8080/",
          "height": 69
        },
        "outputId": "b464688b-155c-4d6e-d182-64a3509ff03d"
      },
      "source": [
        "def tempo_download():\r\n",
        "  tamanho = float(input(\"Qual é o tamanho do arquivo (em MB) para download? \"))\r\n",
        "  velocidade = float(input(\"Qual é a velocidade do link de internet (em Mbps)? \"))\r\n",
        "  tempo = (tamanho/velocidade)/60\r\n",
        "  tempo_round = round(tempo, 2)\r\n",
        "  return f\"O tempo aproximado de download será de {tempo_round} minutos\"\r\n",
        "\r\n",
        "tempo_download()"
      ],
      "execution_count": null,
      "outputs": [
        {
          "output_type": "stream",
          "text": [
            "Qual é o tamanho do arquivo (em MB) para download? 1000\n",
            "Qual é a velocidade do link de internet (em Mbps)? 10\n"
          ],
          "name": "stdout"
        },
        {
          "output_type": "execute_result",
          "data": {
            "application/vnd.google.colaboratory.intrinsic+json": {
              "type": "string"
            },
            "text/plain": [
              "'O tempo aproximado de download será de 1.67 minutos'"
            ]
          },
          "metadata": {
            "tags": []
          },
          "execution_count": 23
        }
      ]
    },
    {
      "cell_type": "markdown",
      "metadata": {
        "id": "0tkhm6EUaG1u"
      },
      "source": [
        "5 - Faça um programa para a leitura de duas notas parciais de um aluno. O programa deve calcular a média alcançada por aluno e apresentar:\n",
        "- A mensagem \"Aprovado\", se a média alcançada for maior ou igual a sete;\n",
        "- A mensagem \"Reprovado\", se a média for menor do que sete;\n",
        "- A mensagem \"Aprovado com Distinção\", se a média for igual a dez."
      ]
    },
    {
      "cell_type": "code",
      "metadata": {
        "id": "990mQ6UhdwKl",
        "colab": {
          "base_uri": "https://localhost:8080/",
          "height": 69
        },
        "outputId": "bb1c9333-34d3-4ceb-ad2f-58aeaf6778cb"
      },
      "source": [
        "def média():\r\n",
        "  prova_1 = float(input(\"Qual é a nota da prova 1 do aluno? \"))\r\n",
        "  prova_2 = float(input(\"Qual é a nota da prova 2 do aluno? \"))\r\n",
        "  nota_parcial_1 = prova_1*0.4\r\n",
        "  nota_parcial_2 = prova_2*0.6\r\n",
        "  média_parcial = float(nota_parcial_1+nota_parcial_2)\r\n",
        "  if 7 <= média_parcial < 10:\r\n",
        "    return f\"Aprovado: {média_parcial}\"\r\n",
        "  elif média_parcial < 7:\r\n",
        "    return f\"Reprovado: {média_parcial}\"\r\n",
        "  elif média_parcial == 10:\r\n",
        "    return f\"Aprovado com Distinção: {média_parcial}\"\r\n",
        "\r\n",
        "média()"
      ],
      "execution_count": 90,
      "outputs": [
        {
          "output_type": "stream",
          "text": [
            "Qual é a nota da prova 1 do aluno? 10\n",
            "Qual é a nota da prova 2 do aluno? 10\n"
          ],
          "name": "stdout"
        },
        {
          "output_type": "execute_result",
          "data": {
            "application/vnd.google.colaboratory.intrinsic+json": {
              "type": "string"
            },
            "text/plain": [
              "'Aprovado com Distinção: 10.0'"
            ]
          },
          "metadata": {
            "tags": []
          },
          "execution_count": 90
        }
      ]
    },
    {
      "cell_type": "markdown",
      "metadata": {
        "id": "Lm1tOKThnU42"
      },
      "source": [
        "Exercícios adaptados de Python Brasil"
      ]
    }
  ]
}