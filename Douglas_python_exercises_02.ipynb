{
  "nbformat": 4,
  "nbformat_minor": 0,
  "metadata": {
    "colab": {
      "name": "Douglas_python_exercises_02.ipynb",
      "provenance": [],
      "collapsed_sections": [],
      "include_colab_link": true
    },
    "kernelspec": {
      "name": "python3",
      "display_name": "Python 3"
    }
  },
  "cells": [
    {
      "cell_type": "markdown",
      "metadata": {
        "id": "view-in-github",
        "colab_type": "text"
      },
      "source": [
        "<a href=\"https://colab.research.google.com/github/douglashdutra/br-python-condensed/blob/main/Douglas_python_exercises_02.ipynb\" target=\"_parent\"><img src=\"https://colab.research.google.com/assets/colab-badge.svg\" alt=\"Open In Colab\"/></a>"
      ]
    },
    {
      "cell_type": "markdown",
      "metadata": {
        "id": "8YqaSZgXYJ5g"
      },
      "source": [
        "![](https://i.imgur.com/YX6UATs.png)\n"
      ]
    },
    {
      "cell_type": "markdown",
      "metadata": {
        "id": "hhUVzDipaGb9"
      },
      "source": [
        "### **Exercícios de Python - 2** \n",
        "\n",
        "\n",
        "\n"
      ]
    },
    {
      "cell_type": "markdown",
      "metadata": {
        "id": "c62cM2VlKFqN"
      },
      "source": [
        "1 - Faça um programa que leia um nome de usuário e a sua senha e não aceite a senha igual ao nome do usuário, mostrando uma mensagem de erro."
      ]
    },
    {
      "cell_type": "code",
      "metadata": {
        "id": "A3ajzaOSq69B",
        "colab": {
          "base_uri": "https://localhost:8080/",
          "height": 69
        },
        "outputId": "e398c161-98f7-4348-fe57-ec323c39d4d5"
      },
      "source": [
        "def nome_senha_iguais():\n",
        "  nome = input(\"Qual é o seu nome? \")\n",
        "  senha = input(\"Qual é a sua senha? \")\n",
        "  if nome == senha:\n",
        "    return f\"Erro! O nome de usuário e a senha não podem ser iguais!\"\n",
        "  else:\n",
        "    return f\"OK!\"\n",
        "\n",
        "nome_senha_iguais()"
      ],
      "execution_count": 4,
      "outputs": [
        {
          "output_type": "stream",
          "text": [
            "Qual é o seu nome? Douglas\n",
            "Qual é a sua senha? abc\n"
          ],
          "name": "stdout"
        },
        {
          "output_type": "execute_result",
          "data": {
            "application/vnd.google.colaboratory.intrinsic+json": {
              "type": "string"
            },
            "text/plain": [
              "'OK!'"
            ]
          },
          "metadata": {
            "tags": []
          },
          "execution_count": 4
        }
      ]
    },
    {
      "cell_type": "markdown",
      "metadata": {
        "id": "qMGp-h8OaGqr"
      },
      "source": [
        "2 - Utilizando listas faça um programa que faça 5 perguntas para uma pessoa sobre um crime. As perguntas são:\n",
        "- \"Telefonou para a vítima?\"\n",
        "- \"Esteve no local do crime?\"\n",
        "- \"Mora perto da vítima?\"\n",
        "- \"Devia para a vítima?\"\n",
        "- \"Já trabalhou com a vítima?\" \\\n",
        "O programa deve no final emitir uma classificação sobre a participação da pessoa no crime. Se a pessoa responder positivamente a 2 questões ela deve ser classificada como \"Suspeita\", entre 3 e 4 como \"Cúmplice\" e 5 como \"Assassino\". Caso contrário, ele será classificado como \"Inocente\"."
      ]
    },
    {
      "cell_type": "code",
      "metadata": {
        "id": "kTg-D89NdCld",
        "colab": {
          "base_uri": "https://localhost:8080/"
        },
        "outputId": "16194563-3c26-4882-f779-d90ae655e787"
      },
      "source": [
        "# Aqui foi usado \"range\" e \"len\"\n",
        "lista_crime = [\"Telefonou para a vítima? Sim(1) ou Não(0): \", \n",
        "              \"Esteve no local do crime? Sim(1) ou Não(0): \",\n",
        "              \"Mora perto da vítima? Sim(1) ou Não(0): \",\n",
        "              \"Devia para a vítima? Sim(1) ou Não(0): \",\n",
        "              \"Já trabalhou com a vítima? Sim(1) ou Não(0): \"]\n",
        "\n",
        "lista_resolucao_1 = []\n",
        "soma_respostas = 0\n",
        "for i in range(len(lista_crime)):\n",
        "  print(lista_crime[i])\n",
        "  lista_resolucao_1.append(input())\n",
        "  soma_respostas += int(lista_resolucao_1[i])\n",
        "\n",
        "status = [\"Inocente\", \"Suspeita\", \"Cúmplice\", \"Cúmplice\", \"Assassino\"]\n",
        "if soma_respostas < 2:\n",
        "  print(status[0])\n",
        "else:\n",
        "  print(status[soma_respostas-1])\n"
      ],
      "execution_count": 16,
      "outputs": [
        {
          "output_type": "stream",
          "text": [
            "Telefonou para a vítima? Sim(1) ou Não(0): \n",
            "1\n",
            "Esteve no local do crime? Sim(1) ou Não(0): \n",
            "0\n",
            "Mora perto da vítima? Sim(1) ou Não(0): \n",
            "0\n",
            "Devia para a vítima? Sim(1) ou Não(0): \n",
            "0\n",
            "Já trabalhou com a vítima? Sim(1) ou Não(0): \n",
            "0\n",
            "Inocente\n"
          ],
          "name": "stdout"
        }
      ]
    },
    {
      "cell_type": "code",
      "metadata": {
        "colab": {
          "base_uri": "https://localhost:8080/"
        },
        "id": "oskzszufvKcG",
        "outputId": "feaad853-464a-4823-8cd0-69ec0cc593ce"
      },
      "source": [
        "# Aqui foi usado o \".append\" com \"input\" pra definir a lista\n",
        "lista_resolucao_2 = []\n",
        "lista_resolucao_2.append(input(\"Telefonou para a vítima? Sim(1) ou Não(0): \"))\n",
        "lista_resolucao_2.append(input(\"Esteve no local do crime? Sim(1) ou Não(0): \"))\n",
        "lista_resolucao_2.append(input(\"Mora perto da vítima? Sim(1) ou Não(0): \"))\n",
        "lista_resolucao_2.append(input(\"Devia para a vítima? Sim(1) ou Não(0): \"))\n",
        "lista_resolucao_2.append(input(\"Já trabalhou com a vítima? Sim(1) ou Não(0): \"))\n",
        "\n",
        "soma_respostas = 0\n",
        "for i in lista_resolucao_2:\n",
        "  soma_respostas += int(i)\n",
        "\n",
        "if soma_respostas<2:\n",
        "  print(\"\\nInocente\")\n",
        "elif soma_respostas == 2:\n",
        "  print(\"\\nSuspeita\")\n",
        "elif 3 <= soma_respostas <= 4:\n",
        "  print(\"\\nCúmplice\")\n",
        "elif soma_respostas == 5:\n",
        "  print(\"\\nAssassino\")"
      ],
      "execution_count": 18,
      "outputs": [
        {
          "output_type": "stream",
          "text": [
            "Telefonou para a vítima? Sim(1) ou Não(0): 1\n",
            "Esteve no local do crime? Sim(1) ou Não(0): 0\n",
            "Mora perto da vítima? Sim(1) ou Não(0): 1\n",
            "Devia para a vítima? Sim(1) ou Não(0): 1\n",
            "Já trabalhou com a vítima? Sim(1) ou Não(0): 0\n",
            "Cúmplice\n"
          ],
          "name": "stdout"
        }
      ]
    },
    {
      "cell_type": "code",
      "metadata": {
        "colab": {
          "base_uri": "https://localhost:8080/"
        },
        "id": "r2Usv2yfxUCi",
        "outputId": "5cbc68b7-1abf-4f26-b45f-17bb2e4186b5"
      },
      "source": [
        "# Aqui é um exemplo de como seria o exercício sem a utilização de listas\n",
        "resposta_1 = int(input(\"Telefonou para a vítima? Sim(1) ou Não(0): \"))\n",
        "resposta_2 = int(input(\"Esteve no local do crime? Sim(1) ou Não(0) \"))\n",
        "resposta_3 = int(input(\"More perto da vítima? Sim(1) ou Não(0)\" ))\n",
        "resposta_4 = int(input(\"Devia para a vítima? Sim(1) ou Não(0)\" ))\n",
        "resposta_5 = int(input(\"Já trabalhou com a vítima? Sim(1) ou Não(0)\" ))\n",
        "\n",
        "soma_respostas = resposta_1 + resposta_2 + resposta_3 + resposta_4 + resposta_5\n",
        "\n",
        "if soma_respostas<2:\n",
        "  print(\"\\nInocente\")\n",
        "elif soma_respostas == 2:\n",
        "  print(\"\\nSuspeita\")\n",
        "elif 3 <= soma_respostas <= 4:\n",
        "  print(\"\\nCúmplice\")\n",
        "elif soma_respostas == 5:\n",
        "  print(\"\\nAssassino\")"
      ],
      "execution_count": 20,
      "outputs": [
        {
          "output_type": "stream",
          "text": [
            "Telefonou para a vítima? Sim(1) ou Não(0): 1\n",
            "Esteve no local do crime? Sim(1) ou Não(0) 1\n",
            "More perto da vítima? Sim(1) ou Não(0)1\n",
            "Devia para a vítima? Sim(1) ou Não(0)1\n",
            "Já trabalhou com a vítima? Sim(1) ou Não(0)1\n",
            "\n",
            "Assassino\n"
          ],
          "name": "stdout"
        }
      ]
    },
    {
      "cell_type": "markdown",
      "metadata": {
        "id": "FTK9nE4pdB1D"
      },
      "source": [
        "3 - A lista abaixo possui nomes de alunos de uma classe. Crie um loop que imprima '{nome} é aluno da classe'\n"
      ]
    },
    {
      "cell_type": "code",
      "metadata": {
        "id": "nW4SbDxTmx4t",
        "colab": {
          "base_uri": "https://localhost:8080/"
        },
        "outputId": "bf326041-0bbc-4012-abe1-193c8eaa171e"
      },
      "source": [
        "lista_alunos_classe = ['Maria','João','Marcelo','Jonas','Laura','Luana']\n",
        "for i in lista_alunos_classe:\n",
        "  print(f\"{i} é aluno da classe\")\n"
      ],
      "execution_count": 21,
      "outputs": [
        {
          "output_type": "stream",
          "text": [
            "Maria é aluno da classe\n",
            "João é aluno da classe\n",
            "Marcelo é aluno da classe\n",
            "Jonas é aluno da classe\n",
            "Laura é aluno da classe\n",
            "Luana é aluno da classe\n"
          ],
          "name": "stdout"
        }
      ]
    },
    {
      "cell_type": "markdown",
      "metadata": {
        "id": "_HbJNv8MaG4g"
      },
      "source": [
        "4 - Utilizando-se da mesma lista trabalhada acima e a lista dada abaixo, que contem as idades dos alunos, realize um loop que faça a iteração com as duas listas printando \"{nome} tem {idade} anos\".\n",
        "Dica: utilize *zip*()"
      ]
    },
    {
      "cell_type": "code",
      "metadata": {
        "id": "LJDxmAbJeO9V",
        "colab": {
          "base_uri": "https://localhost:8080/"
        },
        "outputId": "38d8015c-48ab-4b9c-9e7f-a353a904a56a"
      },
      "source": [
        "lista_idade_alunos_classe = [23,34,42,54,26,27]\n",
        "for i, j in zip(lista_alunos_classe, lista_idade_alunos_classe):\n",
        "  print(f\"{i} tem {j} anos\")"
      ],
      "execution_count": 33,
      "outputs": [
        {
          "output_type": "stream",
          "text": [
            "Maria tem 23 anos\n",
            "João tem 34 anos\n",
            "Marcelo tem 42 anos\n",
            "Jonas tem 54 anos\n",
            "Laura tem 26 anos\n",
            "Luana tem 27 anos\n"
          ],
          "name": "stdout"
        }
      ]
    },
    {
      "cell_type": "markdown",
      "metadata": {
        "id": "0tkhm6EUaG1u"
      },
      "source": [
        "5 - Transforme as duas listas anteriores em um dicionário cuja chave é o nome e o valor é a idade."
      ]
    },
    {
      "cell_type": "code",
      "metadata": {
        "id": "MNINJ32eU45M",
        "colab": {
          "base_uri": "https://localhost:8080/",
          "height": 231
        },
        "outputId": "e222fc5f-5d00-4dbe-b32d-e49e0fd8f5b7"
      },
      "source": [
        "# Convertendo lista em dicionário:\n",
        "\n",
        "dict_alunos_idade = dict.fromkeys(lista_alunos_classe, lista_idade_alunos_classe)\n",
        "\n",
        "print(dict_alunos_idade)"
      ],
      "execution_count": 38,
      "outputs": [
        {
          "output_type": "error",
          "ename": "TypeError",
          "evalue": "ignored",
          "traceback": [
            "\u001b[0;31m---------------------------------------------------------------------------\u001b[0m",
            "\u001b[0;31mTypeError\u001b[0m                                 Traceback (most recent call last)",
            "\u001b[0;32m<ipython-input-38-72522bfff698>\u001b[0m in \u001b[0;36m<module>\u001b[0;34m()\u001b[0m\n\u001b[1;32m      1\u001b[0m \u001b[0;31m# Convertendo lista em dicionário:\u001b[0m\u001b[0;34m\u001b[0m\u001b[0;34m\u001b[0m\u001b[0;34m\u001b[0m\u001b[0m\n\u001b[1;32m      2\u001b[0m \u001b[0;34m\u001b[0m\u001b[0m\n\u001b[0;32m----> 3\u001b[0;31m \u001b[0mdict_alunos_idade\u001b[0m \u001b[0;34m=\u001b[0m \u001b[0mdict\u001b[0m\u001b[0;34m.\u001b[0m\u001b[0mfromkeys\u001b[0m\u001b[0;34m(\u001b[0m\u001b[0mlista_alunos_classe\u001b[0m\u001b[0;34m,\u001b[0m \u001b[0;36m2\u001b[0m\u001b[0;34m)\u001b[0m\u001b[0;34m\u001b[0m\u001b[0;34m\u001b[0m\u001b[0m\n\u001b[0m\u001b[1;32m      4\u001b[0m \u001b[0;34m\u001b[0m\u001b[0m\n\u001b[1;32m      5\u001b[0m \u001b[0mprint\u001b[0m\u001b[0;34m(\u001b[0m\u001b[0mdict_alunos_idade\u001b[0m\u001b[0;34m)\u001b[0m\u001b[0;34m\u001b[0m\u001b[0;34m\u001b[0m\u001b[0m\n",
            "\u001b[0;31mTypeError\u001b[0m: unhashable type: 'list'"
          ]
        }
      ]
    },
    {
      "cell_type": "markdown",
      "metadata": {
        "id": "Lm1tOKThnU42"
      },
      "source": [
        "Exercícios adaptados de Python Brasil"
      ]
    }
  ]
}